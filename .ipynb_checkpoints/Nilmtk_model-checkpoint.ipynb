{
 "cells": [
  {
   "cell_type": "code",
   "execution_count": 1,
   "id": "c715aa73",
   "metadata": {},
   "outputs": [],
   "source": [
    "from __future__ import print_function, division\n",
    "import time\n",
    "from matplotlib import rcParams\n",
    "import matplotlib.pyplot as plt\n",
    "import pandas as pd\n",
    "import numpy as np\n",
    "from six import iteritems\n",
    "\n",
    "%matplotlib inline\n",
    "\n",
    "rcParams['figure.figsize'] = (13, 6)\n",
    "\n",
    "from nilmtk import DataSet, TimeFrame, MeterGroup, HDFDataStore\n",
    "from nilmtk.legacy.disaggregate import CombinatorialOptimisation, FHMM\n",
    "import nilmtk.utils\n",
    "from nilmtk.utils import print_dict\n",
    "\n",
    "import warnings\n",
    "warnings.filterwarnings(\"ignore\")"
   ]
  },
  {
   "cell_type": "code",
   "execution_count": 2,
   "id": "de064cb0",
   "metadata": {},
   "outputs": [],
   "source": [
    "ampds_train = DataSet('C:/Users/osiri/Documents/Nilmtk_estadias/nilmtk/data/AMPds2.h5')\n",
    "ampds_test = DataSet('C:/Users/osiri/Documents/Nilmtk_estadias/nilmtk/data/AMPds2.h5')"
   ]
  },
  {
   "cell_type": "code",
   "execution_count": 3,
   "id": "0c2f5a1d",
   "metadata": {},
   "outputs": [],
   "source": [
    "building = 1"
   ]
  },
  {
   "cell_type": "code",
   "execution_count": 5,
   "id": "27a4bd29",
   "metadata": {},
   "outputs": [
    {
     "data": {
      "text/html": [
       "<ul><li><strong>instance</strong>: 1</li><li><strong>original_name</strong>: MAK</li><li><strong>n_occupants</strong>: 3 start:2012-04-01T06:59:00Z end:2014-04-01T07:00:00Z</li><li><strong>construction_year</strong>: 1955</li><li><strong>energy_improvements</strong>: <ul><li>heat pump</li><li>loft insulation</li><li>instant hot water</li><li>double glazing</li><li>lots of other things</li></ul></li><li><strong>dataset</strong>: AMPds</li></ul>"
      ],
      "text/plain": [
       "<IPython.core.display.HTML object>"
      ]
     },
     "metadata": {},
     "output_type": "display_data"
    }
   ],
   "source": [
    "print_dict(ampds_train.buildings[1].metadata)"
   ]
  },
  {
   "cell_type": "code",
   "execution_count": 6,
   "id": "da8ebab4",
   "metadata": {},
   "outputs": [],
   "source": [
    "ampds_train.set_window(end=\"2014-04-01\")\n",
    "ampds_test.set_window(start=\"2012-04-01\")\n",
    "\n",
    "train_elec = ampds_train.buildings[1].elec\n",
    "test_elec = ampds_test.buildings[1].elec"
   ]
  },
  {
   "cell_type": "code",
   "execution_count": 7,
   "id": "8920be07",
   "metadata": {},
   "outputs": [
    {
     "name": "stdout",
     "output_type": "stream",
     "text": [
      "20/20 ElecMeter(instance=21, building=1, dataset='AMPds', appliances=[Appliance(type='electric oven', instance=1)])"
     ]
    }
   ],
   "source": [
    "top_5_train_elec = train_elec.submeters().select_top_k(k=5)"
   ]
  },
  {
   "cell_type": "code",
   "execution_count": 16,
   "id": "a51f5019",
   "metadata": {},
   "outputs": [
    {
     "data": {
      "text/plain": [
       "MeterGroup(meters=\n",
       "  ElecMeter(instance=2, building=1, dataset='AMPds', appliances=[Appliance(type='light', instance=1)])\n",
       "  ElecMeter(instance=3, building=1, dataset='AMPds', appliances=[Appliance(type='light', instance=2)])\n",
       "  ElecMeter(instance=4, building=1, dataset='AMPds', appliances=[Appliance(type='light', instance=3)])\n",
       "  ElecMeter(instance=5, building=1, dataset='AMPds', appliances=[Appliance(type='unknown', instance=1)])\n",
       "  ElecMeter(instance=6, building=1, dataset='AMPds', appliances=[Appliance(type='unknown', instance=2)])\n",
       ")"
      ]
     },
     "execution_count": 16,
     "metadata": {},
     "output_type": "execute_result"
    }
   ],
   "source": [
    "top_5_train_elec"
   ]
  },
  {
   "cell_type": "markdown",
   "id": "ef1966e8",
   "metadata": {},
   "source": [
    "### Training and disaggregation"
   ]
  },
  {
   "cell_type": "code",
   "execution_count": 8,
   "id": "6e2c617a",
   "metadata": {},
   "outputs": [],
   "source": [
    "def predict(clf, test_elec, sample_period, timezone):\n",
    "    pred = {}\n",
    "    gt= {}\n",
    "\n",
    "    for i, chunk in enumerate(test_elec.mains().load(sample_period=sample_period)):\n",
    "        chunk_drop_na = chunk.dropna()\n",
    "        pred[i] = clf.disaggregate_chunk(chunk_drop_na)\n",
    "        gt[i]={}\n",
    "\n",
    "        for meter in test_elec.submeters().meters:\n",
    "            # Only use the meters that we trained on (this saves time!)    \n",
    "            gt[i][meter] = next(meter.load(sample_period=sample_period))\n",
    "        gt[i] = pd.DataFrame({k:v.squeeze() for k,v in iteritems(gt[i]) if len(v)}, index=next(iter(gt[i].values())).index).dropna()\n",
    "        \n",
    "    # If everything can fit in memory\n",
    "    gt_overall = pd.concat(gt)\n",
    "    gt_overall.index = gt_overall.index.droplevel()\n",
    "    pred_overall = pd.concat(pred)\n",
    "    pred_overall.index = pred_overall.index.droplevel()\n",
    "\n",
    "    # Having the same order of columns\n",
    "    gt_overall = gt_overall[pred_overall.columns]\n",
    "    \n",
    "    #Intersection of index\n",
    "    gt_index_utc = gt_overall.index.tz_convert(\"UTC\")\n",
    "    pred_index_utc = pred_overall.index.tz_convert(\"UTC\")\n",
    "    common_index_utc = gt_index_utc.intersection(pred_index_utc)\n",
    "    \n",
    "    \n",
    "    common_index_local = common_index_utc.tz_convert(timezone)\n",
    "    gt_overall = gt_overall.loc[common_index_local]\n",
    "    pred_overall = pred_overall.loc[common_index_local]\n",
    "    appliance_labels = [m for m in gt_overall.columns.values]\n",
    "    gt_overall.columns = appliance_labels\n",
    "    pred_overall.columns = appliance_labels\n",
    "    return gt_overall, pred_overall"
   ]
  },
  {
   "cell_type": "code",
   "execution_count": 29,
   "id": "15cbdb33",
   "metadata": {},
   "outputs": [],
   "source": [
    "import numpy.random\n",
    "numpy.random.seed(40)"
   ]
  },
  {
   "cell_type": "code",
   "execution_count": 30,
   "id": "ce30d890",
   "metadata": {},
   "outputs": [],
   "source": [
    "classifiers = {'CO':CombinatorialOptimisation(), 'FHMM':FHMM()}\n",
    "predictions = {}\n",
    "sample_period = 120\n"
   ]
  },
  {
   "cell_type": "code",
   "execution_count": 33,
   "id": "f0a47e6c",
   "metadata": {},
   "outputs": [
    {
     "data": {
      "text/plain": [
       "dict_items([('CO', <nilmtk.legacy.disaggregate.combinatorial_optimisation.CombinatorialOptimisation object at 0x00000204D0E72A20>), ('FHMM', <nilmtk.legacy.disaggregate.fhmm_exact.FHMM object at 0x00000204D0E72630>)])"
      ]
     },
     "execution_count": 33,
     "metadata": {},
     "output_type": "execute_result"
    }
   ],
   "source": [
    "classifiers.items()"
   ]
  },
  {
   "cell_type": "code",
   "execution_count": 40,
   "id": "ef2a3bd4",
   "metadata": {},
   "outputs": [
    {
     "name": "stdout",
     "output_type": "stream",
     "text": [
      "********************\n",
      "CO\n",
      "********************\n",
      "Training model for submeter 'ElecMeter(instance=2, building=1, dataset='AMPds', appliances=[Appliance(type='light', instance=1)])'\n",
      "Training model for submeter 'ElecMeter(instance=3, building=1, dataset='AMPds', appliances=[Appliance(type='light', instance=2)])'\n",
      "Training model for submeter 'ElecMeter(instance=4, building=1, dataset='AMPds', appliances=[Appliance(type='light', instance=3)])'\n",
      "Training model for submeter 'ElecMeter(instance=5, building=1, dataset='AMPds', appliances=[Appliance(type='unknown', instance=1)])'\n",
      "Training model for submeter 'ElecMeter(instance=6, building=1, dataset='AMPds', appliances=[Appliance(type='unknown', instance=2)])'\n",
      "Done training!\n"
     ]
    },
    {
     "ename": "KeyError",
     "evalue": "'construction_year'",
     "output_type": "error",
     "traceback": [
      "\u001b[1;31m---------------------------------------------------------------------------\u001b[0m",
      "\u001b[1;31mKeyError\u001b[0m                                  Traceback (most recent call last)",
      "\u001b[1;32m<ipython-input-40-18c85c4e1137>\u001b[0m in \u001b[0;36m<module>\u001b[1;34m\u001b[0m\n\u001b[0;32m      7\u001b[0m     \u001b[0mprint\u001b[0m\u001b[1;33m(\u001b[0m\u001b[1;34m\"*\"\u001b[0m \u001b[1;33m*\u001b[0m\u001b[1;36m20\u001b[0m\u001b[1;33m)\u001b[0m\u001b[1;33m\u001b[0m\u001b[1;33m\u001b[0m\u001b[0m\n\u001b[0;32m      8\u001b[0m     \u001b[0mclf\u001b[0m\u001b[1;33m.\u001b[0m\u001b[0mtrain\u001b[0m\u001b[1;33m(\u001b[0m\u001b[0mtop_5_train_elec\u001b[0m\u001b[1;33m,\u001b[0m \u001b[0msample_period\u001b[0m\u001b[1;33m=\u001b[0m\u001b[0msample_period\u001b[0m\u001b[1;33m)\u001b[0m\u001b[1;33m\u001b[0m\u001b[1;33m\u001b[0m\u001b[0m\n\u001b[1;32m----> 9\u001b[1;33m     \u001b[0mgt\u001b[0m\u001b[1;33m,\u001b[0m \u001b[0mpredictions\u001b[0m\u001b[1;33m[\u001b[0m\u001b[0mclf_name\u001b[0m\u001b[1;33m]\u001b[0m \u001b[1;33m=\u001b[0m \u001b[0mpredict\u001b[0m\u001b[1;33m(\u001b[0m\u001b[0mclf\u001b[0m\u001b[1;33m,\u001b[0m \u001b[0mtest_elec\u001b[0m\u001b[1;33m,\u001b[0m \u001b[1;36m120\u001b[0m\u001b[1;33m,\u001b[0m \u001b[0mampds_train\u001b[0m\u001b[1;33m.\u001b[0m\u001b[0mmetadata\u001b[0m\u001b[1;33m[\u001b[0m\u001b[1;34m'construction_year'\u001b[0m\u001b[1;33m]\u001b[0m\u001b[1;33m)\u001b[0m\u001b[1;33m\u001b[0m\u001b[1;33m\u001b[0m\u001b[0m\n\u001b[0m",
      "\u001b[1;31mKeyError\u001b[0m: 'construction_year'"
     ]
    }
   ],
   "source": [
    "classifiers = {'CO':CombinatorialOptimisation(), 'FHMM':FHMM()}\n",
    "predictions = {}\n",
    "sample_period = 120\n",
    "for clf_name, clf in classifiers.items():\n",
    "    print(\"*\"*20)\n",
    "    print(clf_name)\n",
    "    print(\"*\" *20)\n",
    "    clf.train(top_5_train_elec, sample_period=sample_period)\n",
    "    gt, predictions[clf_name] = predict(clf, test_elec, 120, ampds_train.metadata['timezone'])"
   ]
  },
  {
   "cell_type": "code",
   "execution_count": null,
   "id": "dcff6bd6",
   "metadata": {},
   "outputs": [],
   "source": []
  }
 ],
 "metadata": {
  "kernelspec": {
   "display_name": "Python (test)",
   "language": "python",
   "name": "test"
  },
  "language_info": {
   "codemirror_mode": {
    "name": "ipython",
    "version": 3
   },
   "file_extension": ".py",
   "mimetype": "text/x-python",
   "name": "python",
   "nbconvert_exporter": "python",
   "pygments_lexer": "ipython3",
   "version": "3.6.15"
  }
 },
 "nbformat": 4,
 "nbformat_minor": 5
}
